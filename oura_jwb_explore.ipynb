{
 "cells": [
  {
   "cell_type": "markdown",
   "id": "a385d17b-b590-4986-a919-fcc91bded42d",
   "metadata": {},
   "source": [
    "# What Can Walker Do?\n",
    "\n",
    "An exploration of my Oura ring data and an attempt to model some of my habits. There will be exploratory tool at the bottom so that you can take the reins and see what I would do in a given day. \n",
    "\n",
    "Take a peek and see what you would do if you were Walker for a day! (hint: it's mainly just to be bad at all tasks related to programming, reading and writing). "
   ]
  },
  {
   "cell_type": "code",
   "execution_count": 1,
   "id": "a8ca9142-1f90-4676-ba3e-d9673c00d6eb",
   "metadata": {},
   "outputs": [],
   "source": [
    "import requests\n",
    "import arrow\n",
    "import pandas as pd\n",
    "import statsmodels.formula.api as smf\n",
    "import datetime\n",
    "import seaborn as sns\n",
    "import numpy as np\n",
    "\n",
    "import psycopg2\n",
    "from psycopg2 import extras"
   ]
  },
  {
   "cell_type": "code",
   "execution_count": 2,
   "id": "b88a3cae-0502-4ce9-9277-d8b77decb11e",
   "metadata": {},
   "outputs": [],
   "source": [
    "DB_SETTINGS = {\n",
    "    'dbname': 'postgres',\n",
    "    'user': 'postgres',\n",
    "    'password': 'postgres',\n",
    "    'port': 5432,\n",
    "    'host': '127.0.0.1'\n",
    "}\n",
    "\n",
    "token = 'GJCC5LFS6LWUYLE2OJSAFUBI4H2W66UC'\n",
    "headers = {'Authorization': f'Bearer {token}'}\n",
    "base = 'https://api.ouraring.com'\n",
    "\n",
    "#customize start and end date to your choosing\n",
    "start = '2022-10-30'\n",
    "end = arrow.now().format('YYYY-MM-DD')\n",
    "params = {\n",
    "    'start': start,\n",
    "    'end': 'end',\n",
    "}"
   ]
  },
  {
   "cell_type": "code",
   "execution_count": 3,
   "id": "cfd51b68-6ad1-4567-89a9-2f8a053fe6ef",
   "metadata": {
    "tags": []
   },
   "outputs": [
    {
     "data": {
      "text/plain": [
       "Index(['summary_date', 'period_id', 'is_longest', 'timezone', 'bedtime_end',\n",
       "       'bedtime_start', 'type', 'breath_average', 'average_breath_variation',\n",
       "       'duration', 'total', 'awake', 'rem', 'deep', 'light', 'midpoint_time',\n",
       "       'efficiency', 'restless', 'onset_latency', 'got_up_count',\n",
       "       'wake_up_count', 'hr_5min', 'hr_average', 'hr_lowest',\n",
       "       'lowest_heart_rate_time_offset', 'hypnogram_5min', 'rmssd',\n",
       "       'rmssd_5min', 'score', 'score_alignment', 'score_deep',\n",
       "       'score_disturbances', 'score_efficiency', 'score_latency', 'score_rem',\n",
       "       'score_total', 'temperature_deviation', 'temperature_trend_deviation',\n",
       "       'bedtime_start_delta', 'bedtime_end_delta', 'midpoint_at_delta',\n",
       "       'temperature_delta'],\n",
       "      dtype='object')"
      ]
     },
     "execution_count": 3,
     "metadata": {},
     "output_type": "execute_result"
    }
   ],
   "source": [
    "sleep_peroid_api = f'{base}/v1/sleep'\n",
    "sleep_data = requests.get(sleep_peroid_api, headers=headers, params=params)\n",
    "sleep_data = sleep_data.json()\n",
    "\n",
    "pd.DataFrame(sleep_data['sleep']).columns"
   ]
  },
  {
   "cell_type": "code",
   "execution_count": 4,
   "id": "be0fc362-b15b-4df8-b1d2-ab517a3a931a",
   "metadata": {},
   "outputs": [],
   "source": [
    "activity_peroid_api = f'{base}/v1/activity'\n",
    "activity_data = requests.get(activity_peroid_api, headers=headers, params=params)\n",
    "activity_data = activity_data.json()"
   ]
  },
  {
   "cell_type": "code",
   "execution_count": 5,
   "id": "5729cf8d-7ce1-440c-8c72-5c3c33bf9506",
   "metadata": {
    "tags": []
   },
   "outputs": [],
   "source": [
    "sleep_df = (\n",
    "    pd.DataFrame(sleep_data['sleep'])\n",
    "    .set_index(['summary_date'])\n",
    "    .rename(columns={'score': 'sleep_score', 'timezone': 'sleep_timezone', 'total': 'sleep_total', 'period_id': 'sleep_period_id'})\n",
    ")\n",
    "act_df = (\n",
    "    pd.DataFrame(activity_data['activity'])\n",
    "    .set_index(['summary_date'])\n",
    "    .rename(columns={'score': 'activity_score', 'timezone': 'activity_timezone', 'total': 'activity_total', 'period_id': 'activity_period_id'})\n",
    ")"
   ]
  },
  {
   "cell_type": "code",
   "execution_count": 6,
   "id": "72d6fca7-d387-447f-af9e-101b7bf4ffef",
   "metadata": {
    "tags": []
   },
   "outputs": [],
   "source": [
    "#sleep_df.info()"
   ]
  },
  {
   "cell_type": "code",
   "execution_count": 7,
   "id": "e0ef6da2-257c-4211-be7f-00ddf9ed7b23",
   "metadata": {},
   "outputs": [
    {
     "data": {
      "text/html": [
       "<div>\n",
       "<style scoped>\n",
       "    .dataframe tbody tr th:only-of-type {\n",
       "        vertical-align: middle;\n",
       "    }\n",
       "\n",
       "    .dataframe tbody tr th {\n",
       "        vertical-align: top;\n",
       "    }\n",
       "\n",
       "    .dataframe thead th {\n",
       "        text-align: right;\n",
       "    }\n",
       "</style>\n",
       "<table border=\"1\" class=\"dataframe\">\n",
       "  <thead>\n",
       "    <tr style=\"text-align: right;\">\n",
       "      <th></th>\n",
       "      <th>sleep_period_id</th>\n",
       "      <th>is_longest</th>\n",
       "      <th>sleep_timezone</th>\n",
       "      <th>bedtime_end</th>\n",
       "      <th>bedtime_start</th>\n",
       "      <th>type</th>\n",
       "      <th>breath_average</th>\n",
       "      <th>average_breath_variation</th>\n",
       "      <th>duration</th>\n",
       "      <th>sleep_total</th>\n",
       "      <th>...</th>\n",
       "      <th>score_latency</th>\n",
       "      <th>score_rem</th>\n",
       "      <th>score_total</th>\n",
       "      <th>temperature_deviation</th>\n",
       "      <th>temperature_trend_deviation</th>\n",
       "      <th>bedtime_start_delta</th>\n",
       "      <th>bedtime_end_delta</th>\n",
       "      <th>midpoint_at_delta</th>\n",
       "      <th>temperature_delta</th>\n",
       "      <th>date</th>\n",
       "    </tr>\n",
       "    <tr>\n",
       "      <th>summary_date</th>\n",
       "      <th></th>\n",
       "      <th></th>\n",
       "      <th></th>\n",
       "      <th></th>\n",
       "      <th></th>\n",
       "      <th></th>\n",
       "      <th></th>\n",
       "      <th></th>\n",
       "      <th></th>\n",
       "      <th></th>\n",
       "      <th></th>\n",
       "      <th></th>\n",
       "      <th></th>\n",
       "      <th></th>\n",
       "      <th></th>\n",
       "      <th></th>\n",
       "      <th></th>\n",
       "      <th></th>\n",
       "      <th></th>\n",
       "      <th></th>\n",
       "      <th></th>\n",
       "    </tr>\n",
       "  </thead>\n",
       "  <tbody>\n",
       "    <tr>\n",
       "      <th>2022-10-30</th>\n",
       "      <td>3</td>\n",
       "      <td>1</td>\n",
       "      <td>-240</td>\n",
       "      <td>2022-10-31T02:33:09-04:00</td>\n",
       "      <td>2022-10-30T22:45:09-04:00</td>\n",
       "      <td>long_sleep</td>\n",
       "      <td>15.750</td>\n",
       "      <td>3.875</td>\n",
       "      <td>13680</td>\n",
       "      <td>11910</td>\n",
       "      <td>...</td>\n",
       "      <td>78</td>\n",
       "      <td>18</td>\n",
       "      <td>23</td>\n",
       "      <td>0.18</td>\n",
       "      <td>0.22</td>\n",
       "      <td>-4491</td>\n",
       "      <td>9189</td>\n",
       "      <td>2049</td>\n",
       "      <td>0.18</td>\n",
       "      <td>2022-10-30</td>\n",
       "    </tr>\n",
       "    <tr>\n",
       "      <th>2022-10-31</th>\n",
       "      <td>0</td>\n",
       "      <td>1</td>\n",
       "      <td>-240</td>\n",
       "      <td>2022-11-01T07:45:21-04:00</td>\n",
       "      <td>2022-10-31T21:41:21-04:00</td>\n",
       "      <td>long_sleep</td>\n",
       "      <td>15.375</td>\n",
       "      <td>2.875</td>\n",
       "      <td>36240</td>\n",
       "      <td>33210</td>\n",
       "      <td>...</td>\n",
       "      <td>81</td>\n",
       "      <td>98</td>\n",
       "      <td>100</td>\n",
       "      <td>-0.61</td>\n",
       "      <td>0.08</td>\n",
       "      <td>-8319</td>\n",
       "      <td>27921</td>\n",
       "      <td>9621</td>\n",
       "      <td>-0.61</td>\n",
       "      <td>2022-10-31</td>\n",
       "    </tr>\n",
       "    <tr>\n",
       "      <th>2022-11-01</th>\n",
       "      <td>0</td>\n",
       "      <td>1</td>\n",
       "      <td>-240</td>\n",
       "      <td>2022-11-02T08:02:49-04:00</td>\n",
       "      <td>2022-11-01T23:10:49-04:00</td>\n",
       "      <td>long_sleep</td>\n",
       "      <td>15.000</td>\n",
       "      <td>2.875</td>\n",
       "      <td>31920</td>\n",
       "      <td>28770</td>\n",
       "      <td>...</td>\n",
       "      <td>75</td>\n",
       "      <td>93</td>\n",
       "      <td>88</td>\n",
       "      <td>-0.38</td>\n",
       "      <td>-0.02</td>\n",
       "      <td>-2951</td>\n",
       "      <td>28969</td>\n",
       "      <td>12709</td>\n",
       "      <td>-0.38</td>\n",
       "      <td>2022-11-01</td>\n",
       "    </tr>\n",
       "    <tr>\n",
       "      <th>2022-11-02</th>\n",
       "      <td>0</td>\n",
       "      <td>1</td>\n",
       "      <td>-240</td>\n",
       "      <td>2022-11-03T08:18:03-04:00</td>\n",
       "      <td>2022-11-02T22:28:03-04:00</td>\n",
       "      <td>long_sleep</td>\n",
       "      <td>15.000</td>\n",
       "      <td>3.250</td>\n",
       "      <td>35400</td>\n",
       "      <td>30600</td>\n",
       "      <td>...</td>\n",
       "      <td>91</td>\n",
       "      <td>97</td>\n",
       "      <td>95</td>\n",
       "      <td>-0.40</td>\n",
       "      <td>0.01</td>\n",
       "      <td>-5517</td>\n",
       "      <td>29883</td>\n",
       "      <td>12213</td>\n",
       "      <td>-0.40</td>\n",
       "      <td>2022-11-02</td>\n",
       "    </tr>\n",
       "    <tr>\n",
       "      <th>2022-11-03</th>\n",
       "      <td>0</td>\n",
       "      <td>1</td>\n",
       "      <td>-240</td>\n",
       "      <td>2022-11-04T06:41:17-04:00</td>\n",
       "      <td>2022-11-03T22:40:17-04:00</td>\n",
       "      <td>long_sleep</td>\n",
       "      <td>15.125</td>\n",
       "      <td>2.625</td>\n",
       "      <td>28860</td>\n",
       "      <td>26670</td>\n",
       "      <td>...</td>\n",
       "      <td>83</td>\n",
       "      <td>86</td>\n",
       "      <td>79</td>\n",
       "      <td>-0.65</td>\n",
       "      <td>-0.10</td>\n",
       "      <td>-4783</td>\n",
       "      <td>24077</td>\n",
       "      <td>9407</td>\n",
       "      <td>-0.65</td>\n",
       "      <td>2022-11-03</td>\n",
       "    </tr>\n",
       "  </tbody>\n",
       "</table>\n",
       "<p>5 rows × 42 columns</p>\n",
       "</div>"
      ],
      "text/plain": [
       "              sleep_period_id  is_longest  sleep_timezone  \\\n",
       "summary_date                                                \n",
       "2022-10-30                  3           1            -240   \n",
       "2022-10-31                  0           1            -240   \n",
       "2022-11-01                  0           1            -240   \n",
       "2022-11-02                  0           1            -240   \n",
       "2022-11-03                  0           1            -240   \n",
       "\n",
       "                            bedtime_end              bedtime_start  \\\n",
       "summary_date                                                         \n",
       "2022-10-30    2022-10-31T02:33:09-04:00  2022-10-30T22:45:09-04:00   \n",
       "2022-10-31    2022-11-01T07:45:21-04:00  2022-10-31T21:41:21-04:00   \n",
       "2022-11-01    2022-11-02T08:02:49-04:00  2022-11-01T23:10:49-04:00   \n",
       "2022-11-02    2022-11-03T08:18:03-04:00  2022-11-02T22:28:03-04:00   \n",
       "2022-11-03    2022-11-04T06:41:17-04:00  2022-11-03T22:40:17-04:00   \n",
       "\n",
       "                    type  breath_average  average_breath_variation  duration  \\\n",
       "summary_date                                                                   \n",
       "2022-10-30    long_sleep          15.750                     3.875     13680   \n",
       "2022-10-31    long_sleep          15.375                     2.875     36240   \n",
       "2022-11-01    long_sleep          15.000                     2.875     31920   \n",
       "2022-11-02    long_sleep          15.000                     3.250     35400   \n",
       "2022-11-03    long_sleep          15.125                     2.625     28860   \n",
       "\n",
       "              sleep_total  ...  score_latency  score_rem  score_total  \\\n",
       "summary_date               ...                                          \n",
       "2022-10-30          11910  ...             78         18           23   \n",
       "2022-10-31          33210  ...             81         98          100   \n",
       "2022-11-01          28770  ...             75         93           88   \n",
       "2022-11-02          30600  ...             91         97           95   \n",
       "2022-11-03          26670  ...             83         86           79   \n",
       "\n",
       "              temperature_deviation  temperature_trend_deviation  \\\n",
       "summary_date                                                       \n",
       "2022-10-30                     0.18                         0.22   \n",
       "2022-10-31                    -0.61                         0.08   \n",
       "2022-11-01                    -0.38                        -0.02   \n",
       "2022-11-02                    -0.40                         0.01   \n",
       "2022-11-03                    -0.65                        -0.10   \n",
       "\n",
       "              bedtime_start_delta  bedtime_end_delta  midpoint_at_delta  \\\n",
       "summary_date                                                              \n",
       "2022-10-30                  -4491               9189               2049   \n",
       "2022-10-31                  -8319              27921               9621   \n",
       "2022-11-01                  -2951              28969              12709   \n",
       "2022-11-02                  -5517              29883              12213   \n",
       "2022-11-03                  -4783              24077               9407   \n",
       "\n",
       "              temperature_delta       date  \n",
       "summary_date                                \n",
       "2022-10-30                 0.18 2022-10-30  \n",
       "2022-10-31                -0.61 2022-10-31  \n",
       "2022-11-01                -0.38 2022-11-01  \n",
       "2022-11-02                -0.40 2022-11-02  \n",
       "2022-11-03                -0.65 2022-11-03  \n",
       "\n",
       "[5 rows x 42 columns]"
      ]
     },
     "execution_count": 7,
     "metadata": {},
     "output_type": "execute_result"
    }
   ],
   "source": [
    "#adding in a date sequence for sleep data\n",
    "sleep_df['date'] = pd.date_range(start='10/30/2022', periods=len(sleep_df), freq='D')\n",
    "\n",
    "sleep_df.head()"
   ]
  },
  {
   "cell_type": "code",
   "execution_count": 11,
   "id": "9f977d4f-fc53-454a-a927-89e81e898d4e",
   "metadata": {
    "tags": []
   },
   "outputs": [
    {
     "data": {
      "text/html": [
       "<div>\n",
       "<style scoped>\n",
       "    .dataframe tbody tr th:only-of-type {\n",
       "        vertical-align: middle;\n",
       "    }\n",
       "\n",
       "    .dataframe tbody tr th {\n",
       "        vertical-align: top;\n",
       "    }\n",
       "\n",
       "    .dataframe thead th {\n",
       "        text-align: right;\n",
       "    }\n",
       "</style>\n",
       "<table border=\"1\" class=\"dataframe\">\n",
       "  <thead>\n",
       "    <tr style=\"text-align: right;\">\n",
       "      <th></th>\n",
       "      <th>activity_timezone</th>\n",
       "      <th>cal_active</th>\n",
       "      <th>cal_total</th>\n",
       "      <th>steps</th>\n",
       "      <th>daily_movement</th>\n",
       "      <th>non_wear</th>\n",
       "      <th>rest</th>\n",
       "      <th>inactive</th>\n",
       "      <th>low</th>\n",
       "      <th>medium</th>\n",
       "      <th>...</th>\n",
       "      <th>to_target_miles</th>\n",
       "      <th>activity_score</th>\n",
       "      <th>score_meet_daily_targets</th>\n",
       "      <th>score_move_every_hour</th>\n",
       "      <th>score_recovery_time</th>\n",
       "      <th>score_stay_active</th>\n",
       "      <th>score_training_frequency</th>\n",
       "      <th>score_training_volume</th>\n",
       "      <th>rest_mode_state</th>\n",
       "      <th>activity_total</th>\n",
       "    </tr>\n",
       "  </thead>\n",
       "  <tbody>\n",
       "    <tr>\n",
       "      <th>count</th>\n",
       "      <td>54.000000</td>\n",
       "      <td>54.000000</td>\n",
       "      <td>54.000000</td>\n",
       "      <td>54.000000</td>\n",
       "      <td>54.000000</td>\n",
       "      <td>54.000000</td>\n",
       "      <td>54.000000</td>\n",
       "      <td>54.000000</td>\n",
       "      <td>54.000000</td>\n",
       "      <td>54.000000</td>\n",
       "      <td>...</td>\n",
       "      <td>54.000000</td>\n",
       "      <td>54.000000</td>\n",
       "      <td>54.00000</td>\n",
       "      <td>54.000000</td>\n",
       "      <td>54.000000</td>\n",
       "      <td>54.000000</td>\n",
       "      <td>54.000000</td>\n",
       "      <td>54.000000</td>\n",
       "      <td>54.0</td>\n",
       "      <td>54.000000</td>\n",
       "    </tr>\n",
       "    <tr>\n",
       "      <th>mean</th>\n",
       "      <td>-304.444444</td>\n",
       "      <td>730.000000</td>\n",
       "      <td>3062.000000</td>\n",
       "      <td>11643.685185</td>\n",
       "      <td>12380.314815</td>\n",
       "      <td>63.814815</td>\n",
       "      <td>508.370370</td>\n",
       "      <td>518.981481</td>\n",
       "      <td>241.870370</td>\n",
       "      <td>85.888889</td>\n",
       "      <td>...</td>\n",
       "      <td>-1.548825</td>\n",
       "      <td>89.351852</td>\n",
       "      <td>82.50000</td>\n",
       "      <td>96.611111</td>\n",
       "      <td>93.444444</td>\n",
       "      <td>77.703704</td>\n",
       "      <td>95.944444</td>\n",
       "      <td>98.074074</td>\n",
       "      <td>0.0</td>\n",
       "      <td>331.037037</td>\n",
       "    </tr>\n",
       "    <tr>\n",
       "      <th>std</th>\n",
       "      <td>36.583668</td>\n",
       "      <td>297.314839</td>\n",
       "      <td>337.931611</td>\n",
       "      <td>4275.542820</td>\n",
       "      <td>5145.707850</td>\n",
       "      <td>76.766265</td>\n",
       "      <td>86.819113</td>\n",
       "      <td>105.961811</td>\n",
       "      <td>58.155954</td>\n",
       "      <td>45.778246</td>\n",
       "      <td>...</td>\n",
       "      <td>3.411190</td>\n",
       "      <td>7.417871</td>\n",
       "      <td>22.50262</td>\n",
       "      <td>5.812857</td>\n",
       "      <td>14.837061</td>\n",
       "      <td>11.807624</td>\n",
       "      <td>12.946066</td>\n",
       "      <td>6.998253</td>\n",
       "      <td>0.0</td>\n",
       "      <td>88.243224</td>\n",
       "    </tr>\n",
       "    <tr>\n",
       "      <th>min</th>\n",
       "      <td>-360.000000</td>\n",
       "      <td>101.000000</td>\n",
       "      <td>2129.000000</td>\n",
       "      <td>1899.000000</td>\n",
       "      <td>1351.000000</td>\n",
       "      <td>0.000000</td>\n",
       "      <td>230.000000</td>\n",
       "      <td>162.000000</td>\n",
       "      <td>68.000000</td>\n",
       "      <td>2.000000</td>\n",
       "      <td>...</td>\n",
       "      <td>-9.755525</td>\n",
       "      <td>69.000000</td>\n",
       "      <td>25.00000</td>\n",
       "      <td>78.000000</td>\n",
       "      <td>13.000000</td>\n",
       "      <td>48.000000</td>\n",
       "      <td>40.000000</td>\n",
       "      <td>64.000000</td>\n",
       "      <td>0.0</td>\n",
       "      <td>77.000000</td>\n",
       "    </tr>\n",
       "    <tr>\n",
       "      <th>25%</th>\n",
       "      <td>-300.000000</td>\n",
       "      <td>575.750000</td>\n",
       "      <td>2884.750000</td>\n",
       "      <td>9968.500000</td>\n",
       "      <td>9897.500000</td>\n",
       "      <td>16.500000</td>\n",
       "      <td>470.500000</td>\n",
       "      <td>461.000000</td>\n",
       "      <td>225.250000</td>\n",
       "      <td>56.000000</td>\n",
       "      <td>...</td>\n",
       "      <td>-3.805897</td>\n",
       "      <td>85.500000</td>\n",
       "      <td>78.00000</td>\n",
       "      <td>95.000000</td>\n",
       "      <td>95.750000</td>\n",
       "      <td>71.250000</td>\n",
       "      <td>100.000000</td>\n",
       "      <td>100.000000</td>\n",
       "      <td>0.0</td>\n",
       "      <td>318.250000</td>\n",
       "    </tr>\n",
       "    <tr>\n",
       "      <th>50%</th>\n",
       "      <td>-300.000000</td>\n",
       "      <td>754.000000</td>\n",
       "      <td>3094.000000</td>\n",
       "      <td>11886.500000</td>\n",
       "      <td>12643.500000</td>\n",
       "      <td>41.000000</td>\n",
       "      <td>527.500000</td>\n",
       "      <td>513.000000</td>\n",
       "      <td>248.000000</td>\n",
       "      <td>85.500000</td>\n",
       "      <td>...</td>\n",
       "      <td>-1.584496</td>\n",
       "      <td>92.000000</td>\n",
       "      <td>95.00000</td>\n",
       "      <td>100.000000</td>\n",
       "      <td>100.000000</td>\n",
       "      <td>78.500000</td>\n",
       "      <td>100.000000</td>\n",
       "      <td>100.000000</td>\n",
       "      <td>0.0</td>\n",
       "      <td>342.500000</td>\n",
       "    </tr>\n",
       "    <tr>\n",
       "      <th>75%</th>\n",
       "      <td>-300.000000</td>\n",
       "      <td>885.750000</td>\n",
       "      <td>3255.500000</td>\n",
       "      <td>14065.250000</td>\n",
       "      <td>15305.000000</td>\n",
       "      <td>72.250000</td>\n",
       "      <td>568.500000</td>\n",
       "      <td>571.250000</td>\n",
       "      <td>277.250000</td>\n",
       "      <td>112.750000</td>\n",
       "      <td>...</td>\n",
       "      <td>0.776714</td>\n",
       "      <td>94.750000</td>\n",
       "      <td>100.00000</td>\n",
       "      <td>100.000000</td>\n",
       "      <td>100.000000</td>\n",
       "      <td>86.000000</td>\n",
       "      <td>100.000000</td>\n",
       "      <td>100.000000</td>\n",
       "      <td>0.0</td>\n",
       "      <td>377.000000</td>\n",
       "    </tr>\n",
       "    <tr>\n",
       "      <th>max</th>\n",
       "      <td>-240.000000</td>\n",
       "      <td>1435.000000</td>\n",
       "      <td>3826.000000</td>\n",
       "      <td>21443.000000</td>\n",
       "      <td>24358.000000</td>\n",
       "      <td>328.000000</td>\n",
       "      <td>629.000000</td>\n",
       "      <td>769.000000</td>\n",
       "      <td>346.000000</td>\n",
       "      <td>201.000000</td>\n",
       "      <td>...</td>\n",
       "      <td>6.586533</td>\n",
       "      <td>99.000000</td>\n",
       "      <td>100.00000</td>\n",
       "      <td>100.000000</td>\n",
       "      <td>100.000000</td>\n",
       "      <td>99.000000</td>\n",
       "      <td>100.000000</td>\n",
       "      <td>100.000000</td>\n",
       "      <td>0.0</td>\n",
       "      <td>538.000000</td>\n",
       "    </tr>\n",
       "  </tbody>\n",
       "</table>\n",
       "<p>8 rows × 31 columns</p>\n",
       "</div>"
      ],
      "text/plain": [
       "       activity_timezone   cal_active    cal_total         steps  \\\n",
       "count          54.000000    54.000000    54.000000     54.000000   \n",
       "mean         -304.444444   730.000000  3062.000000  11643.685185   \n",
       "std            36.583668   297.314839   337.931611   4275.542820   \n",
       "min          -360.000000   101.000000  2129.000000   1899.000000   \n",
       "25%          -300.000000   575.750000  2884.750000   9968.500000   \n",
       "50%          -300.000000   754.000000  3094.000000  11886.500000   \n",
       "75%          -300.000000   885.750000  3255.500000  14065.250000   \n",
       "max          -240.000000  1435.000000  3826.000000  21443.000000   \n",
       "\n",
       "       daily_movement    non_wear        rest    inactive         low  \\\n",
       "count       54.000000   54.000000   54.000000   54.000000   54.000000   \n",
       "mean     12380.314815   63.814815  508.370370  518.981481  241.870370   \n",
       "std       5145.707850   76.766265   86.819113  105.961811   58.155954   \n",
       "min       1351.000000    0.000000  230.000000  162.000000   68.000000   \n",
       "25%       9897.500000   16.500000  470.500000  461.000000  225.250000   \n",
       "50%      12643.500000   41.000000  527.500000  513.000000  248.000000   \n",
       "75%      15305.000000   72.250000  568.500000  571.250000  277.250000   \n",
       "max      24358.000000  328.000000  629.000000  769.000000  346.000000   \n",
       "\n",
       "           medium  ...  to_target_miles  activity_score  \\\n",
       "count   54.000000  ...        54.000000       54.000000   \n",
       "mean    85.888889  ...        -1.548825       89.351852   \n",
       "std     45.778246  ...         3.411190        7.417871   \n",
       "min      2.000000  ...        -9.755525       69.000000   \n",
       "25%     56.000000  ...        -3.805897       85.500000   \n",
       "50%     85.500000  ...        -1.584496       92.000000   \n",
       "75%    112.750000  ...         0.776714       94.750000   \n",
       "max    201.000000  ...         6.586533       99.000000   \n",
       "\n",
       "       score_meet_daily_targets  score_move_every_hour  score_recovery_time  \\\n",
       "count                  54.00000              54.000000            54.000000   \n",
       "mean                   82.50000              96.611111            93.444444   \n",
       "std                    22.50262               5.812857            14.837061   \n",
       "min                    25.00000              78.000000            13.000000   \n",
       "25%                    78.00000              95.000000            95.750000   \n",
       "50%                    95.00000             100.000000           100.000000   \n",
       "75%                   100.00000             100.000000           100.000000   \n",
       "max                   100.00000             100.000000           100.000000   \n",
       "\n",
       "       score_stay_active  score_training_frequency  score_training_volume  \\\n",
       "count          54.000000                 54.000000              54.000000   \n",
       "mean           77.703704                 95.944444              98.074074   \n",
       "std            11.807624                 12.946066               6.998253   \n",
       "min            48.000000                 40.000000              64.000000   \n",
       "25%            71.250000                100.000000             100.000000   \n",
       "50%            78.500000                100.000000             100.000000   \n",
       "75%            86.000000                100.000000             100.000000   \n",
       "max            99.000000                100.000000             100.000000   \n",
       "\n",
       "       rest_mode_state  activity_total  \n",
       "count             54.0       54.000000  \n",
       "mean               0.0      331.037037  \n",
       "std                0.0       88.243224  \n",
       "min                0.0       77.000000  \n",
       "25%                0.0      318.250000  \n",
       "50%                0.0      342.500000  \n",
       "75%                0.0      377.000000  \n",
       "max                0.0      538.000000  \n",
       "\n",
       "[8 rows x 31 columns]"
      ]
     },
     "execution_count": 11,
     "metadata": {},
     "output_type": "execute_result"
    }
   ],
   "source": [
    "act_df['date'] = pd.date_range(start='10/30/2022', periods=len(act_df), freq='D')\n",
    "act_df.describe()"
   ]
  },
  {
   "cell_type": "markdown",
   "id": "aa4a83d7-c07d-4e07-b00d-d81c92079e48",
   "metadata": {},
   "source": [
    "### Now that we have our data, let's start building a dashboard to explore:"
   ]
  },
  {
   "cell_type": "code",
   "execution_count": 12,
   "id": "d0fd483f-faf7-468d-a543-4b76babc5f08",
   "metadata": {},
   "outputs": [],
   "source": [
    "import dash\n",
    "from dash import html\n",
    "from dash import dcc\n",
    "import plotly.graph_objects as go\n",
    "import plotly.express as px\n",
    "from plotly.subplots import make_subplots"
   ]
  },
  {
   "cell_type": "code",
   "execution_count": null,
   "id": "cfc7ab67-f5d0-44ba-a413-4c9e4c0be940",
   "metadata": {},
   "outputs": [
    {
     "data": {
      "application/vnd.plotly.v1+json": {
       "config": {
        "plotlyServerURL": "https://plot.ly"
       },
       "data": [
        {
         "hovertemplate": "color=Steps<br>Date=%{x}<br>Steps/Sleep=%{y}<extra></extra>",
         "legendgroup": "Steps",
         "line": {
          "color": "#636efa",
          "dash": "solid"
         },
         "marker": {
          "symbol": "circle"
         },
         "mode": "lines",
         "name": "Steps",
         "orientation": "v",
         "showlegend": true,
         "type": "scatter",
         "x": [
          "2022-10-30T00:00:00",
          "2022-10-31T00:00:00",
          "2022-11-01T00:00:00",
          "2022-11-02T00:00:00",
          "2022-11-03T00:00:00",
          "2022-11-04T00:00:00",
          "2022-11-05T00:00:00",
          "2022-11-06T00:00:00",
          "2022-11-07T00:00:00",
          "2022-11-08T00:00:00",
          "2022-11-09T00:00:00",
          "2022-11-10T00:00:00",
          "2022-11-11T00:00:00",
          "2022-11-12T00:00:00",
          "2022-11-13T00:00:00",
          "2022-11-14T00:00:00",
          "2022-11-15T00:00:00",
          "2022-11-16T00:00:00",
          "2022-11-17T00:00:00",
          "2022-11-18T00:00:00",
          "2022-11-19T00:00:00",
          "2022-11-20T00:00:00",
          "2022-11-21T00:00:00",
          "2022-11-22T00:00:00",
          "2022-11-23T00:00:00",
          "2022-11-24T00:00:00",
          "2022-11-25T00:00:00",
          "2022-11-26T00:00:00",
          "2022-11-27T00:00:00",
          "2022-11-28T00:00:00",
          "2022-11-29T00:00:00",
          "2022-11-30T00:00:00",
          "2022-12-01T00:00:00",
          "2022-12-02T00:00:00",
          "2022-12-03T00:00:00",
          "2022-12-04T00:00:00",
          "2022-12-05T00:00:00",
          "2022-12-06T00:00:00",
          "2022-12-07T00:00:00",
          "2022-12-08T00:00:00",
          "2022-12-09T00:00:00",
          "2022-12-10T00:00:00",
          "2022-12-11T00:00:00",
          "2022-12-12T00:00:00",
          "2022-12-13T00:00:00",
          "2022-12-14T00:00:00",
          "2022-12-15T00:00:00",
          "2022-12-16T00:00:00",
          "2022-12-17T00:00:00",
          "2022-12-18T00:00:00",
          "2022-12-19T00:00:00",
          "2022-12-20T00:00:00",
          "2022-12-21T00:00:00",
          "2022-12-22T00:00:00"
         ],
         "xaxis": "x",
         "y": [
          13748,
          11574,
          12972,
          16489,
          10966,
          16183,
          14171,
          10478,
          11983,
          12908,
          8995,
          9475,
          11340,
          13205,
          15207,
          11164,
          10503,
          14243,
          12318,
          11649,
          10095,
          9344,
          15083,
          14400,
          10037,
          5726,
          4319,
          6821,
          13485,
          5263,
          2201,
          1899,
          3311,
          8426,
          12117,
          11328,
          9329,
          12722,
          11501,
          9994,
          12808,
          15325,
          21443,
          15370,
          13246,
          11790,
          13686,
          21363,
          18376,
          18318,
          9960,
          12419,
          15114,
          2569
         ],
         "yaxis": "y"
        },
        {
         "name": "REM Sleep (seconds)",
         "type": "bar",
         "x": [
          "2022-10-30T00:00:00",
          "2022-10-31T00:00:00",
          "2022-11-01T00:00:00",
          "2022-11-02T00:00:00",
          "2022-11-03T00:00:00",
          "2022-11-04T00:00:00",
          "2022-11-05T00:00:00",
          "2022-11-06T00:00:00",
          "2022-11-07T00:00:00",
          "2022-11-08T00:00:00",
          "2022-11-09T00:00:00",
          "2022-11-10T00:00:00",
          "2022-11-11T00:00:00",
          "2022-11-12T00:00:00",
          "2022-11-13T00:00:00",
          "2022-11-14T00:00:00",
          "2022-11-15T00:00:00",
          "2022-11-16T00:00:00",
          "2022-11-17T00:00:00",
          "2022-11-18T00:00:00",
          "2022-11-19T00:00:00",
          "2022-11-20T00:00:00",
          "2022-11-21T00:00:00",
          "2022-11-22T00:00:00",
          "2022-11-23T00:00:00",
          "2022-11-24T00:00:00",
          "2022-11-25T00:00:00",
          "2022-11-26T00:00:00",
          "2022-11-27T00:00:00",
          "2022-11-28T00:00:00",
          "2022-11-29T00:00:00",
          "2022-11-30T00:00:00",
          "2022-12-01T00:00:00",
          "2022-12-02T00:00:00",
          "2022-12-03T00:00:00",
          "2022-12-04T00:00:00",
          "2022-12-05T00:00:00",
          "2022-12-06T00:00:00",
          "2022-12-07T00:00:00",
          "2022-12-08T00:00:00",
          "2022-12-09T00:00:00",
          "2022-12-10T00:00:00",
          "2022-12-11T00:00:00",
          "2022-12-12T00:00:00",
          "2022-12-13T00:00:00",
          "2022-12-14T00:00:00",
          "2022-12-15T00:00:00",
          "2022-12-16T00:00:00",
          "2022-12-17T00:00:00",
          "2022-12-18T00:00:00",
          "2022-12-19T00:00:00",
          "2022-12-20T00:00:00",
          "2022-12-21T00:00:00"
         ],
         "y": [
          1320,
          8010,
          6630,
          7500,
          6090,
          6720,
          7230,
          8280,
          7590,
          8550,
          6150,
          3120,
          7740,
          7140,
          7920,
          6990,
          7080,
          6870,
          6900,
          8100,
          1620,
          10800,
          4530,
          8640,
          9030,
          7980,
          11460,
          10470,
          7080,
          7110,
          6540,
          5610,
          4140,
          8910,
          6300,
          6210,
          6300,
          8640,
          8730,
          7410,
          7350,
          6510,
          4110,
          5940,
          8430,
          5670,
          7650,
          9060,
          5490,
          4350,
          6240,
          5550,
          8730
         ]
        }
       ],
       "layout": {
        "autosize": true,
        "legend": {
         "title": {
          "text": "color"
         },
         "tracegroupgap": 0
        },
        "margin": {
         "t": 60
        },
        "template": {
         "data": {
          "bar": [
           {
            "error_x": {
             "color": "#2a3f5f"
            },
            "error_y": {
             "color": "#2a3f5f"
            },
            "marker": {
             "line": {
              "color": "#E5ECF6",
              "width": 0.5
             },
             "pattern": {
              "fillmode": "overlay",
              "size": 10,
              "solidity": 0.2
             }
            },
            "type": "bar"
           }
          ],
          "barpolar": [
           {
            "marker": {
             "line": {
              "color": "#E5ECF6",
              "width": 0.5
             },
             "pattern": {
              "fillmode": "overlay",
              "size": 10,
              "solidity": 0.2
             }
            },
            "type": "barpolar"
           }
          ],
          "carpet": [
           {
            "aaxis": {
             "endlinecolor": "#2a3f5f",
             "gridcolor": "white",
             "linecolor": "white",
             "minorgridcolor": "white",
             "startlinecolor": "#2a3f5f"
            },
            "baxis": {
             "endlinecolor": "#2a3f5f",
             "gridcolor": "white",
             "linecolor": "white",
             "minorgridcolor": "white",
             "startlinecolor": "#2a3f5f"
            },
            "type": "carpet"
           }
          ],
          "choropleth": [
           {
            "colorbar": {
             "outlinewidth": 0,
             "ticks": ""
            },
            "type": "choropleth"
           }
          ],
          "contour": [
           {
            "colorbar": {
             "outlinewidth": 0,
             "ticks": ""
            },
            "colorscale": [
             [
              0,
              "#0d0887"
             ],
             [
              0.1111111111111111,
              "#46039f"
             ],
             [
              0.2222222222222222,
              "#7201a8"
             ],
             [
              0.3333333333333333,
              "#9c179e"
             ],
             [
              0.4444444444444444,
              "#bd3786"
             ],
             [
              0.5555555555555556,
              "#d8576b"
             ],
             [
              0.6666666666666666,
              "#ed7953"
             ],
             [
              0.7777777777777778,
              "#fb9f3a"
             ],
             [
              0.8888888888888888,
              "#fdca26"
             ],
             [
              1,
              "#f0f921"
             ]
            ],
            "type": "contour"
           }
          ],
          "contourcarpet": [
           {
            "colorbar": {
             "outlinewidth": 0,
             "ticks": ""
            },
            "type": "contourcarpet"
           }
          ],
          "heatmap": [
           {
            "colorbar": {
             "outlinewidth": 0,
             "ticks": ""
            },
            "colorscale": [
             [
              0,
              "#0d0887"
             ],
             [
              0.1111111111111111,
              "#46039f"
             ],
             [
              0.2222222222222222,
              "#7201a8"
             ],
             [
              0.3333333333333333,
              "#9c179e"
             ],
             [
              0.4444444444444444,
              "#bd3786"
             ],
             [
              0.5555555555555556,
              "#d8576b"
             ],
             [
              0.6666666666666666,
              "#ed7953"
             ],
             [
              0.7777777777777778,
              "#fb9f3a"
             ],
             [
              0.8888888888888888,
              "#fdca26"
             ],
             [
              1,
              "#f0f921"
             ]
            ],
            "type": "heatmap"
           }
          ],
          "heatmapgl": [
           {
            "colorbar": {
             "outlinewidth": 0,
             "ticks": ""
            },
            "colorscale": [
             [
              0,
              "#0d0887"
             ],
             [
              0.1111111111111111,
              "#46039f"
             ],
             [
              0.2222222222222222,
              "#7201a8"
             ],
             [
              0.3333333333333333,
              "#9c179e"
             ],
             [
              0.4444444444444444,
              "#bd3786"
             ],
             [
              0.5555555555555556,
              "#d8576b"
             ],
             [
              0.6666666666666666,
              "#ed7953"
             ],
             [
              0.7777777777777778,
              "#fb9f3a"
             ],
             [
              0.8888888888888888,
              "#fdca26"
             ],
             [
              1,
              "#f0f921"
             ]
            ],
            "type": "heatmapgl"
           }
          ],
          "histogram": [
           {
            "marker": {
             "pattern": {
              "fillmode": "overlay",
              "size": 10,
              "solidity": 0.2
             }
            },
            "type": "histogram"
           }
          ],
          "histogram2d": [
           {
            "colorbar": {
             "outlinewidth": 0,
             "ticks": ""
            },
            "colorscale": [
             [
              0,
              "#0d0887"
             ],
             [
              0.1111111111111111,
              "#46039f"
             ],
             [
              0.2222222222222222,
              "#7201a8"
             ],
             [
              0.3333333333333333,
              "#9c179e"
             ],
             [
              0.4444444444444444,
              "#bd3786"
             ],
             [
              0.5555555555555556,
              "#d8576b"
             ],
             [
              0.6666666666666666,
              "#ed7953"
             ],
             [
              0.7777777777777778,
              "#fb9f3a"
             ],
             [
              0.8888888888888888,
              "#fdca26"
             ],
             [
              1,
              "#f0f921"
             ]
            ],
            "type": "histogram2d"
           }
          ],
          "histogram2dcontour": [
           {
            "colorbar": {
             "outlinewidth": 0,
             "ticks": ""
            },
            "colorscale": [
             [
              0,
              "#0d0887"
             ],
             [
              0.1111111111111111,
              "#46039f"
             ],
             [
              0.2222222222222222,
              "#7201a8"
             ],
             [
              0.3333333333333333,
              "#9c179e"
             ],
             [
              0.4444444444444444,
              "#bd3786"
             ],
             [
              0.5555555555555556,
              "#d8576b"
             ],
             [
              0.6666666666666666,
              "#ed7953"
             ],
             [
              0.7777777777777778,
              "#fb9f3a"
             ],
             [
              0.8888888888888888,
              "#fdca26"
             ],
             [
              1,
              "#f0f921"
             ]
            ],
            "type": "histogram2dcontour"
           }
          ],
          "mesh3d": [
           {
            "colorbar": {
             "outlinewidth": 0,
             "ticks": ""
            },
            "type": "mesh3d"
           }
          ],
          "parcoords": [
           {
            "line": {
             "colorbar": {
              "outlinewidth": 0,
              "ticks": ""
             }
            },
            "type": "parcoords"
           }
          ],
          "pie": [
           {
            "automargin": true,
            "type": "pie"
           }
          ],
          "scatter": [
           {
            "fillpattern": {
             "fillmode": "overlay",
             "size": 10,
             "solidity": 0.2
            },
            "type": "scatter"
           }
          ],
          "scatter3d": [
           {
            "line": {
             "colorbar": {
              "outlinewidth": 0,
              "ticks": ""
             }
            },
            "marker": {
             "colorbar": {
              "outlinewidth": 0,
              "ticks": ""
             }
            },
            "type": "scatter3d"
           }
          ],
          "scattercarpet": [
           {
            "marker": {
             "colorbar": {
              "outlinewidth": 0,
              "ticks": ""
             }
            },
            "type": "scattercarpet"
           }
          ],
          "scattergeo": [
           {
            "marker": {
             "colorbar": {
              "outlinewidth": 0,
              "ticks": ""
             }
            },
            "type": "scattergeo"
           }
          ],
          "scattergl": [
           {
            "marker": {
             "colorbar": {
              "outlinewidth": 0,
              "ticks": ""
             }
            },
            "type": "scattergl"
           }
          ],
          "scattermapbox": [
           {
            "marker": {
             "colorbar": {
              "outlinewidth": 0,
              "ticks": ""
             }
            },
            "type": "scattermapbox"
           }
          ],
          "scatterpolar": [
           {
            "marker": {
             "colorbar": {
              "outlinewidth": 0,
              "ticks": ""
             }
            },
            "type": "scatterpolar"
           }
          ],
          "scatterpolargl": [
           {
            "marker": {
             "colorbar": {
              "outlinewidth": 0,
              "ticks": ""
             }
            },
            "type": "scatterpolargl"
           }
          ],
          "scatterternary": [
           {
            "marker": {
             "colorbar": {
              "outlinewidth": 0,
              "ticks": ""
             }
            },
            "type": "scatterternary"
           }
          ],
          "surface": [
           {
            "colorbar": {
             "outlinewidth": 0,
             "ticks": ""
            },
            "colorscale": [
             [
              0,
              "#0d0887"
             ],
             [
              0.1111111111111111,
              "#46039f"
             ],
             [
              0.2222222222222222,
              "#7201a8"
             ],
             [
              0.3333333333333333,
              "#9c179e"
             ],
             [
              0.4444444444444444,
              "#bd3786"
             ],
             [
              0.5555555555555556,
              "#d8576b"
             ],
             [
              0.6666666666666666,
              "#ed7953"
             ],
             [
              0.7777777777777778,
              "#fb9f3a"
             ],
             [
              0.8888888888888888,
              "#fdca26"
             ],
             [
              1,
              "#f0f921"
             ]
            ],
            "type": "surface"
           }
          ],
          "table": [
           {
            "cells": {
             "fill": {
              "color": "#EBF0F8"
             },
             "line": {
              "color": "white"
             }
            },
            "header": {
             "fill": {
              "color": "#C8D4E3"
             },
             "line": {
              "color": "white"
             }
            },
            "type": "table"
           }
          ]
         },
         "layout": {
          "annotationdefaults": {
           "arrowcolor": "#2a3f5f",
           "arrowhead": 0,
           "arrowwidth": 1
          },
          "autotypenumbers": "strict",
          "coloraxis": {
           "colorbar": {
            "outlinewidth": 0,
            "ticks": ""
           }
          },
          "colorscale": {
           "diverging": [
            [
             0,
             "#8e0152"
            ],
            [
             0.1,
             "#c51b7d"
            ],
            [
             0.2,
             "#de77ae"
            ],
            [
             0.3,
             "#f1b6da"
            ],
            [
             0.4,
             "#fde0ef"
            ],
            [
             0.5,
             "#f7f7f7"
            ],
            [
             0.6,
             "#e6f5d0"
            ],
            [
             0.7,
             "#b8e186"
            ],
            [
             0.8,
             "#7fbc41"
            ],
            [
             0.9,
             "#4d9221"
            ],
            [
             1,
             "#276419"
            ]
           ],
           "sequential": [
            [
             0,
             "#0d0887"
            ],
            [
             0.1111111111111111,
             "#46039f"
            ],
            [
             0.2222222222222222,
             "#7201a8"
            ],
            [
             0.3333333333333333,
             "#9c179e"
            ],
            [
             0.4444444444444444,
             "#bd3786"
            ],
            [
             0.5555555555555556,
             "#d8576b"
            ],
            [
             0.6666666666666666,
             "#ed7953"
            ],
            [
             0.7777777777777778,
             "#fb9f3a"
            ],
            [
             0.8888888888888888,
             "#fdca26"
            ],
            [
             1,
             "#f0f921"
            ]
           ],
           "sequentialminus": [
            [
             0,
             "#0d0887"
            ],
            [
             0.1111111111111111,
             "#46039f"
            ],
            [
             0.2222222222222222,
             "#7201a8"
            ],
            [
             0.3333333333333333,
             "#9c179e"
            ],
            [
             0.4444444444444444,
             "#bd3786"
            ],
            [
             0.5555555555555556,
             "#d8576b"
            ],
            [
             0.6666666666666666,
             "#ed7953"
            ],
            [
             0.7777777777777778,
             "#fb9f3a"
            ],
            [
             0.8888888888888888,
             "#fdca26"
            ],
            [
             1,
             "#f0f921"
            ]
           ]
          },
          "colorway": [
           "#636efa",
           "#EF553B",
           "#00cc96",
           "#ab63fa",
           "#FFA15A",
           "#19d3f3",
           "#FF6692",
           "#B6E880",
           "#FF97FF",
           "#FECB52"
          ],
          "font": {
           "color": "#2a3f5f"
          },
          "geo": {
           "bgcolor": "white",
           "lakecolor": "white",
           "landcolor": "#E5ECF6",
           "showlakes": true,
           "showland": true,
           "subunitcolor": "white"
          },
          "hoverlabel": {
           "align": "left"
          },
          "hovermode": "closest",
          "mapbox": {
           "style": "light"
          },
          "paper_bgcolor": "white",
          "plot_bgcolor": "#E5ECF6",
          "polar": {
           "angularaxis": {
            "gridcolor": "white",
            "linecolor": "white",
            "ticks": ""
           },
           "bgcolor": "#E5ECF6",
           "radialaxis": {
            "gridcolor": "white",
            "linecolor": "white",
            "ticks": ""
           }
          },
          "scene": {
           "xaxis": {
            "backgroundcolor": "#E5ECF6",
            "gridcolor": "white",
            "gridwidth": 2,
            "linecolor": "white",
            "showbackground": true,
            "ticks": "",
            "zerolinecolor": "white"
           },
           "yaxis": {
            "backgroundcolor": "#E5ECF6",
            "gridcolor": "white",
            "gridwidth": 2,
            "linecolor": "white",
            "showbackground": true,
            "ticks": "",
            "zerolinecolor": "white"
           },
           "zaxis": {
            "backgroundcolor": "#E5ECF6",
            "gridcolor": "white",
            "gridwidth": 2,
            "linecolor": "white",
            "showbackground": true,
            "ticks": "",
            "zerolinecolor": "white"
           }
          },
          "shapedefaults": {
           "line": {
            "color": "#2a3f5f"
           }
          },
          "ternary": {
           "aaxis": {
            "gridcolor": "white",
            "linecolor": "white",
            "ticks": ""
           },
           "baxis": {
            "gridcolor": "white",
            "linecolor": "white",
            "ticks": ""
           },
           "bgcolor": "#E5ECF6",
           "caxis": {
            "gridcolor": "white",
            "linecolor": "white",
            "ticks": ""
           }
          },
          "title": {
           "x": 0.05
          },
          "xaxis": {
           "automargin": true,
           "gridcolor": "white",
           "linecolor": "white",
           "ticks": "",
           "title": {
            "standoff": 15
           },
           "zerolinecolor": "white",
           "zerolinewidth": 2
          },
          "yaxis": {
           "automargin": true,
           "gridcolor": "white",
           "linecolor": "white",
           "ticks": "",
           "title": {
            "standoff": 15
           },
           "zerolinecolor": "white",
           "zerolinewidth": 2
          }
         }
        },
        "xaxis": {
         "anchor": "y",
         "autorange": true,
         "domain": [
          0,
          1
         ],
         "range": [
          "2022-10-29 12:00",
          "2022-12-22"
         ],
         "title": {
          "text": "Date"
         },
         "type": "date"
        },
        "yaxis": {
         "anchor": "x",
         "autorange": true,
         "domain": [
          0,
          1
         ],
         "range": [
          0,
          22571.57894736842
         ],
         "title": {
          "text": "Steps/Sleep"
         },
         "type": "linear"
        }
       }
      },
      "image/png": "[encoded data removed]",
      "text/html": [
       "<div>                            <div id=\"2d4a402a-5766-41ef-a6da-82af35f6dfb2\" class=\"plotly-graph-div\" style=\"height:525px; width:100%;\"></div>            <script type=\"text/javascript\">                require([\"plotly\"], function(Plotly) {                    window.PLOTLYENV=window.PLOTLYENV || {};                                    if (document.getElementById(\"2d4a402a-5766-41ef-a6da-82af35f6dfb2\")) {                    Plotly.newPlot(                        \"2d4a402a-5766-41ef-a6da-82af35f6dfb2\",                        [{\"hovertemplate\":\"color=Steps<br>Date=%{x}<br>Steps/Sleep=%{y}<extra></extra>\",\"legendgroup\":\"Steps\",\"line\":{\"color\":\"#636efa\",\"dash\":\"solid\"},\"marker\":{\"symbol\":\"circle\"},\"mode\":\"lines\",\"name\":\"Steps\",\"orientation\":\"v\",\"showlegend\":true,\"x\":[\"2022-10-30T00:00:00\",\"2022-10-31T00:00:00\",\"2022-11-01T00:00:00\",\"2022-11-02T00:00:00\",\"2022-11-03T00:00:00\",\"2022-11-04T00:00:00\",\"2022-11-05T00:00:00\",\"2022-11-06T00:00:00\",\"2022-11-07T00:00:00\",\"2022-11-08T00:00:00\",\"2022-11-09T00:00:00\",\"2022-11-10T00:00:00\",\"2022-11-11T00:00:00\",\"2022-11-12T00:00:00\",\"2022-11-13T00:00:00\",\"2022-11-14T00:00:00\",\"2022-11-15T00:00:00\",\"2022-11-16T00:00:00\",\"2022-11-17T00:00:00\",\"2022-11-18T00:00:00\",\"2022-11-19T00:00:00\",\"2022-11-20T00:00:00\",\"2022-11-21T00:00:00\",\"2022-11-22T00:00:00\",\"2022-11-23T00:00:00\",\"2022-11-24T00:00:00\",\"2022-11-25T00:00:00\",\"2022-11-26T00:00:00\",\"2022-11-27T00:00:00\",\"2022-11-28T00:00:00\",\"2022-11-29T00:00:00\",\"2022-11-30T00:00:00\",\"2022-12-01T00:00:00\",\"2022-12-02T00:00:00\",\"2022-12-03T00:00:00\",\"2022-12-04T00:00:00\",\"2022-12-05T00:00:00\",\"2022-12-06T00:00:00\",\"2022-12-07T00:00:00\",\"2022-12-08T00:00:00\",\"2022-12-09T00:00:00\",\"2022-12-10T00:00:00\",\"2022-12-11T00:00:00\",\"2022-12-12T00:00:00\",\"2022-12-13T00:00:00\",\"2022-12-14T00:00:00\",\"2022-12-15T00:00:00\",\"2022-12-16T00:00:00\",\"2022-12-17T00:00:00\",\"2022-12-18T00:00:00\",\"2022-12-19T00:00:00\",\"2022-12-20T00:00:00\",\"2022-12-21T00:00:00\",\"2022-12-22T00:00:00\"],\"xaxis\":\"x\",\"y\":[13748,11574,12972,16489,10966,16183,14171,10478,11983,12908,8995,9475,11340,13205,15207,11164,10503,14243,12318,11649,10095,9344,15083,14400,10037,5726,4319,6821,13485,5263,2201,1899,3311,8426,12117,11328,9329,12722,11501,9994,12808,15325,21443,15370,13246,11790,13686,21363,18376,18318,9960,12419,15114,2569],\"yaxis\":\"y\",\"type\":\"scatter\"},{\"name\":\"REM Sleep (seconds)\",\"x\":[\"2022-10-30T00:00:00\",\"2022-10-31T00:00:00\",\"2022-11-01T00:00:00\",\"2022-11-02T00:00:00\",\"2022-11-03T00:00:00\",\"2022-11-04T00:00:00\",\"2022-11-05T00:00:00\",\"2022-11-06T00:00:00\",\"2022-11-07T00:00:00\",\"2022-11-08T00:00:00\",\"2022-11-09T00:00:00\",\"2022-11-10T00:00:00\",\"2022-11-11T00:00:00\",\"2022-11-12T00:00:00\",\"2022-11-13T00:00:00\",\"2022-11-14T00:00:00\",\"2022-11-15T00:00:00\",\"2022-11-16T00:00:00\",\"2022-11-17T00:00:00\",\"2022-11-18T00:00:00\",\"2022-11-19T00:00:00\",\"2022-11-20T00:00:00\",\"2022-11-21T00:00:00\",\"2022-11-22T00:00:00\",\"2022-11-23T00:00:00\",\"2022-11-24T00:00:00\",\"2022-11-25T00:00:00\",\"2022-11-26T00:00:00\",\"2022-11-27T00:00:00\",\"2022-11-28T00:00:00\",\"2022-11-29T00:00:00\",\"2022-11-30T00:00:00\",\"2022-12-01T00:00:00\",\"2022-12-02T00:00:00\",\"2022-12-03T00:00:00\",\"2022-12-04T00:00:00\",\"2022-12-05T00:00:00\",\"2022-12-06T00:00:00\",\"2022-12-07T00:00:00\",\"2022-12-08T00:00:00\",\"2022-12-09T00:00:00\",\"2022-12-10T00:00:00\",\"2022-12-11T00:00:00\",\"2022-12-12T00:00:00\",\"2022-12-13T00:00:00\",\"2022-12-14T00:00:00\",\"2022-12-15T00:00:00\",\"2022-12-16T00:00:00\",\"2022-12-17T00:00:00\",\"2022-12-18T00:00:00\",\"2022-12-19T00:00:00\",\"2022-12-20T00:00:00\",\"2022-12-21T00:00:00\"],\"y\":[1320,8010,6630,7500,6090,6720,7230,8280,7590,8550,6150,3120,7740,7140,7920,6990,7080,6870,6900,8100,1620,10800,4530,8640,9030,7980,11460,10470,7080,7110,6540,5610,4140,8910,6300,6210,6300,8640,8730,7410,7350,6510,4110,5940,8430,5670,7650,9060,5490,4350,6240,5550,8730],\"type\":\"bar\"}],                        {\"template\":{\"data\":{\"histogram2dcontour\":[{\"type\":\"histogram2dcontour\",\"colorbar\":{\"outlinewidth\":0,\"ticks\":\"\"},\"colorscale\":[[0.0,\"#0d0887\"],[0.1111111111111111,\"#46039f\"],[0.2222222222222222,\"#7201a8\"],[0.3333333333333333,\"#9c179e\"],[0.4444444444444444,\"#bd3786\"],[0.5555555555555556,\"#d8576b\"],[0.6666666666666666,\"#ed7953\"],[0.7777777777777778,\"#fb9f3a\"],[0.8888888888888888,\"#fdca26\"],[1.0,\"#f0f921\"]]}],\"choropleth\":[{\"type\":\"choropleth\",\"colorbar\":{\"outlinewidth\":0,\"ticks\":\"\"}}],\"histogram2d\":[{\"type\":\"histogram2d\",\"colorbar\":{\"outlinewidth\":0,\"ticks\":\"\"},\"colorscale\":[[0.0,\"#0d0887\"],[0.1111111111111111,\"#46039f\"],[0.2222222222222222,\"#7201a8\"],[0.3333333333333333,\"#9c179e\"],[0.4444444444444444,\"#bd3786\"],[0.5555555555555556,\"#d8576b\"],[0.6666666666666666,\"#ed7953\"],[0.7777777777777778,\"#fb9f3a\"],[0.8888888888888888,\"#fdca26\"],[1.0,\"#f0f921\"]]}],\"heatmap\":[{\"type\":\"heatmap\",\"colorbar\":{\"outlinewidth\":0,\"ticks\":\"\"},\"colorscale\":[[0.0,\"#0d0887\"],[0.1111111111111111,\"#46039f\"],[0.2222222222222222,\"#7201a8\"],[0.3333333333333333,\"#9c179e\"],[0.4444444444444444,\"#bd3786\"],[0.5555555555555556,\"#d8576b\"],[0.6666666666666666,\"#ed7953\"],[0.7777777777777778,\"#fb9f3a\"],[0.8888888888888888,\"#fdca26\"],[1.0,\"#f0f921\"]]}],\"heatmapgl\":[{\"type\":\"heatmapgl\",\"colorbar\":{\"outlinewidth\":0,\"ticks\":\"\"},\"colorscale\":[[0.0,\"#0d0887\"],[0.1111111111111111,\"#46039f\"],[0.2222222222222222,\"#7201a8\"],[0.3333333333333333,\"#9c179e\"],[0.4444444444444444,\"#bd3786\"],[0.5555555555555556,\"#d8576b\"],[0.6666666666666666,\"#ed7953\"],[0.7777777777777778,\"#fb9f3a\"],[0.8888888888888888,\"#fdca26\"],[1.0,\"#f0f921\"]]}],\"contourcarpet\":[{\"type\":\"contourcarpet\",\"colorbar\":{\"outlinewidth\":0,\"ticks\":\"\"}}],\"contour\":[{\"type\":\"contour\",\"colorbar\":{\"outlinewidth\":0,\"ticks\":\"\"},\"colorscale\":[[0.0,\"#0d0887\"],[0.1111111111111111,\"#46039f\"],[0.2222222222222222,\"#7201a8\"],[0.3333333333333333,\"#9c179e\"],[0.4444444444444444,\"#bd3786\"],[0.5555555555555556,\"#d8576b\"],[0.6666666666666666,\"#ed7953\"],[0.7777777777777778,\"#fb9f3a\"],[0.8888888888888888,\"#fdca26\"],[1.0,\"#f0f921\"]]}],\"surface\":[{\"type\":\"surface\",\"colorbar\":{\"outlinewidth\":0,\"ticks\":\"\"},\"colorscale\":[[0.0,\"#0d0887\"],[0.1111111111111111,\"#46039f\"],[0.2222222222222222,\"#7201a8\"],[0.3333333333333333,\"#9c179e\"],[0.4444444444444444,\"#bd3786\"],[0.5555555555555556,\"#d8576b\"],[0.6666666666666666,\"#ed7953\"],[0.7777777777777778,\"#fb9f3a\"],[0.8888888888888888,\"#fdca26\"],[1.0,\"#f0f921\"]]}],\"mesh3d\":[{\"type\":\"mesh3d\",\"colorbar\":{\"outlinewidth\":0,\"ticks\":\"\"}}],\"scatter\":[{\"fillpattern\":{\"fillmode\":\"overlay\",\"size\":10,\"solidity\":0.2},\"type\":\"scatter\"}],\"parcoords\":[{\"type\":\"parcoords\",\"line\":{\"colorbar\":{\"outlinewidth\":0,\"ticks\":\"\"}}}],\"scatterpolargl\":[{\"type\":\"scatterpolargl\",\"marker\":{\"colorbar\":{\"outlinewidth\":0,\"ticks\":\"\"}}}],\"bar\":[{\"error_x\":{\"color\":\"#2a3f5f\"},\"error_y\":{\"color\":\"#2a3f5f\"},\"marker\":{\"line\":{\"color\":\"#E5ECF6\",\"width\":0.5},\"pattern\":{\"fillmode\":\"overlay\",\"size\":10,\"solidity\":0.2}},\"type\":\"bar\"}],\"scattergeo\":[{\"type\":\"scattergeo\",\"marker\":{\"colorbar\":{\"outlinewidth\":0,\"ticks\":\"\"}}}],\"scatterpolar\":[{\"type\":\"scatterpolar\",\"marker\":{\"colorbar\":{\"outlinewidth\":0,\"ticks\":\"\"}}}],\"histogram\":[{\"marker\":{\"pattern\":{\"fillmode\":\"overlay\",\"size\":10,\"solidity\":0.2}},\"type\":\"histogram\"}],\"scattergl\":[{\"type\":\"scattergl\",\"marker\":{\"colorbar\":{\"outlinewidth\":0,\"ticks\":\"\"}}}],\"scatter3d\":[{\"type\":\"scatter3d\",\"line\":{\"colorbar\":{\"outlinewidth\":0,\"ticks\":\"\"}},\"marker\":{\"colorbar\":{\"outlinewidth\":0,\"ticks\":\"\"}}}],\"scattermapbox\":[{\"type\":\"scattermapbox\",\"marker\":{\"colorbar\":{\"outlinewidth\":0,\"ticks\":\"\"}}}],\"scatterternary\":[{\"type\":\"scatterternary\",\"marker\":{\"colorbar\":{\"outlinewidth\":0,\"ticks\":\"\"}}}],\"scattercarpet\":[{\"type\":\"scattercarpet\",\"marker\":{\"colorbar\":{\"outlinewidth\":0,\"ticks\":\"\"}}}],\"carpet\":[{\"aaxis\":{\"endlinecolor\":\"#2a3f5f\",\"gridcolor\":\"white\",\"linecolor\":\"white\",\"minorgridcolor\":\"white\",\"startlinecolor\":\"#2a3f5f\"},\"baxis\":{\"endlinecolor\":\"#2a3f5f\",\"gridcolor\":\"white\",\"linecolor\":\"white\",\"minorgridcolor\":\"white\",\"startlinecolor\":\"#2a3f5f\"},\"type\":\"carpet\"}],\"table\":[{\"cells\":{\"fill\":{\"color\":\"#EBF0F8\"},\"line\":{\"color\":\"white\"}},\"header\":{\"fill\":{\"color\":\"#C8D4E3\"},\"line\":{\"color\":\"white\"}},\"type\":\"table\"}],\"barpolar\":[{\"marker\":{\"line\":{\"color\":\"#E5ECF6\",\"width\":0.5},\"pattern\":{\"fillmode\":\"overlay\",\"size\":10,\"solidity\":0.2}},\"type\":\"barpolar\"}],\"pie\":[{\"automargin\":true,\"type\":\"pie\"}]},\"layout\":{\"autotypenumbers\":\"strict\",\"colorway\":[\"#636efa\",\"#EF553B\",\"#00cc96\",\"#ab63fa\",\"#FFA15A\",\"#19d3f3\",\"#FF6692\",\"#B6E880\",\"#FF97FF\",\"#FECB52\"],\"font\":{\"color\":\"#2a3f5f\"},\"hovermode\":\"closest\",\"hoverlabel\":{\"align\":\"left\"},\"paper_bgcolor\":\"white\",\"plot_bgcolor\":\"#E5ECF6\",\"polar\":{\"bgcolor\":\"#E5ECF6\",\"angularaxis\":{\"gridcolor\":\"white\",\"linecolor\":\"white\",\"ticks\":\"\"},\"radialaxis\":{\"gridcolor\":\"white\",\"linecolor\":\"white\",\"ticks\":\"\"}},\"ternary\":{\"bgcolor\":\"#E5ECF6\",\"aaxis\":{\"gridcolor\":\"white\",\"linecolor\":\"white\",\"ticks\":\"\"},\"baxis\":{\"gridcolor\":\"white\",\"linecolor\":\"white\",\"ticks\":\"\"},\"caxis\":{\"gridcolor\":\"white\",\"linecolor\":\"white\",\"ticks\":\"\"}},\"coloraxis\":{\"colorbar\":{\"outlinewidth\":0,\"ticks\":\"\"}},\"colorscale\":{\"sequential\":[[0.0,\"#0d0887\"],[0.1111111111111111,\"#46039f\"],[0.2222222222222222,\"#7201a8\"],[0.3333333333333333,\"#9c179e\"],[0.4444444444444444,\"#bd3786\"],[0.5555555555555556,\"#d8576b\"],[0.6666666666666666,\"#ed7953\"],[0.7777777777777778,\"#fb9f3a\"],[0.8888888888888888,\"#fdca26\"],[1.0,\"#f0f921\"]],\"sequentialminus\":[[0.0,\"#0d0887\"],[0.1111111111111111,\"#46039f\"],[0.2222222222222222,\"#7201a8\"],[0.3333333333333333,\"#9c179e\"],[0.4444444444444444,\"#bd3786\"],[0.5555555555555556,\"#d8576b\"],[0.6666666666666666,\"#ed7953\"],[0.7777777777777778,\"#fb9f3a\"],[0.8888888888888888,\"#fdca26\"],[1.0,\"#f0f921\"]],\"diverging\":[[0,\"#8e0152\"],[0.1,\"#c51b7d\"],[0.2,\"#de77ae\"],[0.3,\"#f1b6da\"],[0.4,\"#fde0ef\"],[0.5,\"#f7f7f7\"],[0.6,\"#e6f5d0\"],[0.7,\"#b8e186\"],[0.8,\"#7fbc41\"],[0.9,\"#4d9221\"],[1,\"#276419\"]]},\"xaxis\":{\"gridcolor\":\"white\",\"linecolor\":\"white\",\"ticks\":\"\",\"title\":{\"standoff\":15},\"zerolinecolor\":\"white\",\"automargin\":true,\"zerolinewidth\":2},\"yaxis\":{\"gridcolor\":\"white\",\"linecolor\":\"white\",\"ticks\":\"\",\"title\":{\"standoff\":15},\"zerolinecolor\":\"white\",\"automargin\":true,\"zerolinewidth\":2},\"scene\":{\"xaxis\":{\"backgroundcolor\":\"#E5ECF6\",\"gridcolor\":\"white\",\"linecolor\":\"white\",\"showbackground\":true,\"ticks\":\"\",\"zerolinecolor\":\"white\",\"gridwidth\":2},\"yaxis\":{\"backgroundcolor\":\"#E5ECF6\",\"gridcolor\":\"white\",\"linecolor\":\"white\",\"showbackground\":true,\"ticks\":\"\",\"zerolinecolor\":\"white\",\"gridwidth\":2},\"zaxis\":{\"backgroundcolor\":\"#E5ECF6\",\"gridcolor\":\"white\",\"linecolor\":\"white\",\"showbackground\":true,\"ticks\":\"\",\"zerolinecolor\":\"white\",\"gridwidth\":2}},\"shapedefaults\":{\"line\":{\"color\":\"#2a3f5f\"}},\"annotationdefaults\":{\"arrowcolor\":\"#2a3f5f\",\"arrowhead\":0,\"arrowwidth\":1},\"geo\":{\"bgcolor\":\"white\",\"landcolor\":\"#E5ECF6\",\"subunitcolor\":\"white\",\"showland\":true,\"showlakes\":true,\"lakecolor\":\"white\"},\"title\":{\"x\":0.05},\"mapbox\":{\"style\":\"light\"}}},\"xaxis\":{\"anchor\":\"y\",\"domain\":[0.0,1.0],\"title\":{\"text\":\"Date\"}},\"yaxis\":{\"anchor\":\"x\",\"domain\":[0.0,1.0],\"title\":{\"text\":\"Steps/Sleep\"}},\"legend\":{\"title\":{\"text\":\"color\"},\"tracegroupgap\":0},\"margin\":{\"t\":60}},                        {\"responsive\": true}                    ).then(function(){\n",
       "                            \n",
       "var gd = document.getElementById('2d4a402a-5766-41ef-a6da-82af35f6dfb2');\n",
       "var x = new MutationObserver(function (mutations, observer) {{\n",
       "        var display = window.getComputedStyle(gd).display;\n",
       "        if (!display || display === 'none') {{\n",
       "            console.log([gd, 'removed!']);\n",
       "            Plotly.purge(gd);\n",
       "            observer.disconnect();\n",
       "        }}\n",
       "}});\n",
       "\n",
       "// Listen for the removal of the full notebook cells\n",
       "var notebookContainer = gd.closest('#notebook-container');\n",
       "if (notebookContainer) {{\n",
       "    x.observe(notebookContainer, {childList: true});\n",
       "}}\n",
       "\n",
       "// Listen for the clearing of the current output cell\n",
       "var outputEl = gd.closest('.output');\n",
       "if (outputEl) {{\n",
       "    x.observe(outputEl, {childList: true});\n",
       "}}\n",
       "\n",
       "                        })                };                });            </script>        </div>"
      ]
     },
     "metadata": {},
     "output_type": "display_data"
    },
    {
     "name": "stdout",
     "output_type": "stream",
     "text": [
      "Dash is running on http://127.0.0.1:8050/\n",
      "\n",
      "Dash is running on http://127.0.0.1:8050/\n",
      "\n",
      " * Serving Flask app \"__main__\" (lazy loading)\n",
      " * Environment: production\n",
      "\u001b[31m   WARNING: This is a development server. Do not use it in a production deployment.\u001b[0m\n",
      "\u001b[2m   Use a production WSGI server instead.\u001b[0m\n",
      " * Debug mode: on\n"
     ]
    }
   ],
   "source": [
    "import plotly.graph_objects as go # or plotly.express as px\n",
    "fig = go.Figure() # or any Plotly Express function e.g. px.bar(...)\n",
    "fig = px.line(x=act_df['date'], y=act_df['steps'], color=px.Constant(\"Steps\"),\n",
    "             labels=dict(x=\"Date\", y=\"Steps/Sleep\"))\n",
    "\n",
    "fig.add_bar(x=sleep_df['date'], y=sleep_df['rem'], name=\"REM Sleep (seconds)\")\n",
    "fig.show()\n",
    "\n",
    "import dash\n",
    "import dash_core_components as dcc\n",
    "import dash_html_components as html\n",
    "\n",
    "app = dash.Dash()\n",
    "app.layout = html.Div([\n",
    "    dcc.Graph(figure=fig)\n",
    "])\n",
    "\n",
    "app.run_server(debug=True, use_reloader=False)  # Turn off reloader if inside Jupyter"
   ]
  }
 ],
 "metadata": {
  "kernelspec": {
   "display_name": "Python 3 (ipykernel)",
   "language": "python",
   "name": "python3"
  },
  "language_info": {
   "codemirror_mode": {
    "name": "ipython",
    "version": 3
   },
   "file_extension": ".py",
   "mimetype": "text/x-python",
   "name": "python",
   "nbconvert_exporter": "python",
   "pygments_lexer": "ipython3",
   "version": "3.9.13"
  }
 },
 "nbformat": 4,
 "nbformat_minor": 5
}
